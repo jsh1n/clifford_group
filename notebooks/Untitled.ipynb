{
 "cells": [
  {
   "cell_type": "code",
   "execution_count": 1,
   "metadata": {},
   "outputs": [],
   "source": [
    "%reset -sf\n",
    "import numpy as np\n",
    "import os\n",
    "from tqdm import tqdm\n",
    "import multiprocessing as mp\n",
    "from multiprocessing import Pool\n",
    "import pickle\n",
    "\n",
    "# unnecessary\n",
    "import numba\n",
    "%load_ext Cython"
   ]
  },
  {
   "cell_type": "markdown",
   "metadata": {},
   "source": [
    "##### clifford群の元のはじめの非ゼロ成分を実数化して更に絶対値で割って要素の位相成分を固定"
   ]
  },
  {
   "cell_type": "code",
   "execution_count": 2,
   "metadata": {},
   "outputs": [],
   "source": [
    "os.chdir(\"/home/pj/projects/clifford_alg/data\")\n",
    "cliffords2 = np.load('cliffords_2Qnp.npy')\n",
    "rtol=1e-03\n",
    "atol=1e-05\n",
    "L = 100"
   ]
  },
  {
   "cell_type": "code",
   "execution_count": 3,
   "metadata": {},
   "outputs": [],
   "source": [
    "def flatten_and_uniquenize(clifford):\n",
    "    flattened = clifford.ravel('C')\n",
    "    for j in range(len(flattened)):\n",
    "        if not np.isclose(0, flattened[j]):\n",
    "            normalizer = np.conj(flattened[j]) / np.abs(flattened[j])\n",
    "            break\n",
    "        else:\n",
    "            continue\n",
    "    flattened = flattened * normalizer\n",
    "    return flattened\n",
    "\n",
    "def uniquenize(cliffords):\n",
    "    p = Pool()\n",
    "    ret = p.map(flatten_and_uniquenize, cliffords)\n",
    "    p.close\n",
    "    return np.asarray(ret)"
   ]
  },
  {
   "cell_type": "markdown",
   "metadata": {},
   "source": [
    "##### clifford群の元の各行列要素を調べる"
   ]
  },
  {
   "cell_type": "code",
   "execution_count": 4,
   "metadata": {},
   "outputs": [],
   "source": [
    "def uniquenize_elements(flatarray):\n",
    "    for i in range(len(flatarray)):\n",
    "        for j in range(i, len(flatarray)):\n",
    "            if np.isclose(flatarray[i], flatarray[j], rtol, atol):\n",
    "                flatarray[j] = flatarray[i]\n",
    "    return np.unique(flatarray)\n",
    "\n",
    "def create_element_hashdict(cliffords):\n",
    "    dict = {}\n",
    "    flatten = cliffords.ravel('C')\n",
    "    list = uniquenize_elements(np.unique(flatten))\n",
    "    for i in range(len(list)):\n",
    "        dict[i] = list[i]\n",
    "    return dict\n",
    "\n",
    "def hashnize(clifford, dict):\n",
    "    hexstr = \"\"\n",
    "    for i in range(len(clifford)):\n",
    "        for j in range(len(dict)):\n",
    "            if np.isclose(dict[j], clifford[i]):\n",
    "                hexstr += format(j, 'x')\n",
    "                break\n",
    "            else:\n",
    "                continue\n",
    "    return hexstr\n",
    "\n",
    "def wrapper_hashnize(arg):\n",
    "    return hashnize(*arg)\n",
    "\n",
    "def create_cliffords_hashdict(cliffords, elementDict):\n",
    "    p = Pool()\n",
    "    ret = p.map(wrapper_hashnize, [(clifford, elementDict) for clifford in cliffords])\n",
    "    p.close\n",
    "    dict = {}\n",
    "    for i in range(len(ret)):\n",
    "        dict[i] = ret[i]\n",
    "    return dict"
   ]
  },
  {
   "cell_type": "code",
   "execution_count": 5,
   "metadata": {},
   "outputs": [],
   "source": [
    "def prod_and_search(clifford1, clifford2, elementDict, hashDict):\n",
    "    product = np.matmul(clifford1, clifford2)\n",
    "    product = flatten_and_uniquenize(product)\n",
    "    prodHash = hashnize(product, elementDict)\n",
    "    for key, value in hashDict.items():\n",
    "        if value == prodHash:\n",
    "            return key\n",
    "        else:\n",
    "            continue\n",
    "    print(\"{} is missing\".format(prodHash))\n",
    "\n",
    "# don't use\n",
    "def wrapper_prod_and_search(args):\n",
    "    return prod_and_search(*args)\n",
    "\n",
    "def calc_sub(clifford1, cliffords, elementDict, hashDict):\n",
    "    ret = []\n",
    "    for clifford in cliffords:\n",
    "        ret.append(prod_and_search(clifford1, clifford, elementDict, hashDict))\n",
    "    return np.asarray(ret)\n",
    "\n",
    "def wrapper_calc_sub(args):\n",
    "    return calc_sub(*args)\n",
    "\n",
    "def calc(cliffords, elementDict, hashDict):\n",
    "    p = Pool()\n",
    "    ret = p.map(wrapper_calc_sub, [(clifford, cliffords, elementDict, hashDict) for clifford in cliffords])\n",
    "    p.close\n",
    "    return np.asarray(ret)"
   ]
  },
  {
   "cell_type": "code",
   "execution_count": 6,
   "metadata": {},
   "outputs": [],
   "source": [
    "def create_or_load(createfunc, filename):\n",
    "    if os.path.exists(filename + \".pickle\"):\n",
    "        with open(filename + \".pickle\", 'rb') as f:\n",
    "            ret = pickle.load(f)\n",
    "        return ret\n",
    "    else:\n",
    "        tmp = createfunc\n",
    "        with open(filename + \".pickle\", 'wb') as f:\n",
    "            pickle.dump(tmp, f)\n",
    "        return tmp"
   ]
  },
  {
   "cell_type": "code",
   "execution_count": 9,
   "metadata": {},
   "outputs": [
    {
     "name": "stdout",
     "output_type": "stream",
     "text": [
      "42.3 s ± 365 ms per loop (mean ± std. dev. of 7 runs, 1 loop each)\n"
     ]
    }
   ],
   "source": [
    "%%timeit\n",
    "cliffords = create_or_load(uniquenize(cliffords2), \"cliffords\")\n",
    "elementDict = create_or_load(create_element_hashdict(cliffords), \"elementDict\")\n",
    "cliffordsHashDict = create_or_load(create_cliffords_hashdict(cliffords, elementDict), \"cliffordsHashDict\")"
   ]
  },
  {
   "cell_type": "code",
   "execution_count": 10,
   "metadata": {},
   "outputs": [
    {
     "name": "stdout",
     "output_type": "stream",
     "text": [
      "49 s ± 1.83 s per loop (mean ± std. dev. of 7 runs, 1 loop each)\n"
     ]
    }
   ],
   "source": [
    "%%timeit\n",
    "uniquenize(cliffords2)\n",
    "create_element_hashdict(cliffords)\n",
    "create_cliffords_hashdict(cliffords, elementDict)"
   ]
  },
  {
   "cell_type": "code",
   "execution_count": 8,
   "metadata": {},
   "outputs": [
    {
     "data": {
      "text/plain": [
       "0"
      ]
     },
     "execution_count": 8,
     "metadata": {},
     "output_type": "execute_result"
    }
   ],
   "source": [
    "# check bijection of hash\n",
    "len(cliffords2)-len(set(cliffordsHashDict.values()))"
   ]
  },
  {
   "cell_type": "code",
   "execution_count": 9,
   "metadata": {},
   "outputs": [
    {
     "name": "stdout",
     "output_type": "stream",
     "text": [
      "CPU times: user 71.9 ms, sys: 20.2 ms, total: 92.1 ms\n",
      "Wall time: 19.6 s\n"
     ]
    }
   ],
   "source": [
    "%time group_map = calc(cliffords2[:L], elementDict, cliffordsHashDict)\n",
    "np.savetxt(\"cliffordGroupTable.csv\", group_map, delimiter=',' , fmt = '%i')"
   ]
  },
  {
   "cell_type": "code",
   "execution_count": null,
   "metadata": {},
   "outputs": [],
   "source": []
  }
 ],
 "metadata": {
  "kernelspec": {
   "display_name": "Python 3",
   "language": "python",
   "name": "python3"
  },
  "language_info": {
   "codemirror_mode": {
    "name": "ipython",
    "version": 3
   },
   "file_extension": ".py",
   "mimetype": "text/x-python",
   "name": "python",
   "nbconvert_exporter": "python",
   "pygments_lexer": "ipython3",
   "version": "3.6.5"
  }
 },
 "nbformat": 4,
 "nbformat_minor": 2
}
