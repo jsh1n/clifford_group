{
 "cells": [
  {
   "cell_type": "code",
   "execution_count": 1,
   "metadata": {},
   "outputs": [],
   "source": [
    "%reset -sf\n",
    "import numpy as np\n",
    "import os\n",
    "from tqdm import tqdm\n",
    "import multiprocessing as mp\n",
    "from multiprocessing import Pool"
   ]
  },
  {
   "cell_type": "code",
   "execution_count": 2,
   "metadata": {},
   "outputs": [],
   "source": [
    "os.chdir(\"/home/pj/projects/clifford_alg/data\")\n",
    "cliffords2 = np.load('cliffords_2Qnp.npy')\n",
    "rtol=1e-03\n",
    "atol=1e-05"
   ]
  },
  {
   "cell_type": "code",
   "execution_count": 3,
   "metadata": {},
   "outputs": [],
   "source": [
    "def flatten_and_uniquenize(clifford):\n",
    "    flattened = clifford.ravel('C')\n",
    "    for j in range(len(flattened)):\n",
    "        if not np.isclose(0, flattened[j]):\n",
    "            normalizer = np.conj(flattened[j]) / np.abs(flattened[j])\n",
    "            break\n",
    "        else:\n",
    "            continue\n",
    "    flattened = flattened * normalizer\n",
    "    return flattened"
   ]
  },
  {
   "cell_type": "code",
   "execution_count": 4,
   "metadata": {},
   "outputs": [
    {
     "data": {
      "text/plain": [
       "array([ 7.07106781e-01+0.00000000e+00j, -1.66533454e-16+7.07106781e-01j,\n",
       "        0.00000000e+00+0.00000000e+00j,  0.00000000e+00+0.00000000e+00j,\n",
       "        7.07106781e-01+1.66533454e-16j,  3.33066907e-16-7.07106781e-01j,\n",
       "        0.00000000e+00+0.00000000e+00j,  0.00000000e+00+0.00000000e+00j,\n",
       "        0.00000000e+00+0.00000000e+00j,  0.00000000e+00+0.00000000e+00j,\n",
       "        7.07106781e-01+0.00000000e+00j, -1.66533454e-16+7.07106781e-01j,\n",
       "        0.00000000e+00+0.00000000e+00j,  0.00000000e+00+0.00000000e+00j,\n",
       "        7.07106781e-01+1.66533454e-16j,  3.33066907e-16-7.07106781e-01j])"
      ]
     },
     "execution_count": 4,
     "metadata": {},
     "output_type": "execute_result"
    }
   ],
   "source": [
    "flatten_and_uniquenize(cliffords2[5])"
   ]
  },
  {
   "cell_type": "code",
   "execution_count": 5,
   "metadata": {},
   "outputs": [
    {
     "name": "stderr",
     "output_type": "stream",
     "text": [
      "100%|██████████| 11520/11520 [00:00<00:00, 16244.75it/s]\n"
     ]
    }
   ],
   "source": [
    "uniqueCliffords = []\n",
    "for i in tqdm(range(len(cliffords2))):\n",
    "    uniqueCliffords.append(flatten_and_uniquenize(cliffords2[i]))\n",
    "uniqueCliffords = np.asarray(uniqueCliffords).ravel('C')"
   ]
  },
  {
   "cell_type": "code",
   "execution_count": 6,
   "metadata": {},
   "outputs": [],
   "source": [
    "def uniquenize_elements(flatarray):\n",
    "    for i in tqdm(range(len(flatarray))):\n",
    "        for j in range(i, len(flatarray)):\n",
    "            if np.isclose(flatarray[i], flatarray[j], rtol, atol):\n",
    "                flatarray[j] = flatarray[i]\n",
    "    return np.unique(flatarray)"
   ]
  },
  {
   "cell_type": "code",
   "execution_count": 7,
   "metadata": {},
   "outputs": [
    {
     "name": "stderr",
     "output_type": "stream",
     "text": [
      "100%|██████████| 1369/1369 [00:23<00:00, 58.54it/s]"
     ]
    },
    {
     "name": "stdout",
     "output_type": "stream",
     "text": [
      "elements of 2d-clifford_group:11520\n",
      "unique elements:13\n"
     ]
    },
    {
     "name": "stderr",
     "output_type": "stream",
     "text": [
      "\n"
     ]
    }
   ],
   "source": [
    "uniqueElements = np.unique(uniqueCliffords)\n",
    "uniqueElements = uniquenize_elements(uniqueElements)\n",
    "\n",
    "print(\"elements of 2d-clifford_group:{}\\nunique elements:{}\".format(len(cliffords2), len(uniqueElements)))"
   ]
  },
  {
   "cell_type": "code",
   "execution_count": 8,
   "metadata": {},
   "outputs": [
    {
     "name": "stderr",
     "output_type": "stream",
     "text": [
      "100%|██████████| 11520/11520 [00:36<00:00, 314.19it/s]\n"
     ]
    }
   ],
   "source": [
    "cliffordsHash = []\n",
    "for clifford in tqdm(cliffords2):\n",
    "    flattened = flatten_and_uniquenize(clifford)\n",
    "    cliffordHash = np.zeros(len(flattened), dtype = 'uint8')\n",
    "    for i in range(len(flattened)):\n",
    "        for j in range(len(uniqueElements)):\n",
    "            if np.isclose(uniqueElements[j], flattened[i], rtol, atol):\n",
    "                cliffordHash[i] = j + 1\n",
    "                break;\n",
    "    cliffordsHash.append(cliffordHash)"
   ]
  },
  {
   "cell_type": "code",
   "execution_count": 9,
   "metadata": {},
   "outputs": [],
   "source": [
    "def hashnize(flattened, elementsHash):\n",
    "    ret = np.zeros(len(flattened), dtype='int8')\n",
    "    for i in range(len(flattened)):\n",
    "        for j in range(len(elementsHash)):\n",
    "            if np.isclose(elementsHash[j], flattened[i], rtol, atol):\n",
    "                ret[i] = j + 1\n",
    "                break\n",
    "    return ret"
   ]
  },
  {
   "cell_type": "code",
   "execution_count": 10,
   "metadata": {},
   "outputs": [],
   "source": [
    "def clifford_to_hash(clifford, elementHash):\n",
    "    return hashnize(flatten_and_uniquenize(clifford), uniqueElements)"
   ]
  },
  {
   "cell_type": "code",
   "execution_count": 11,
   "metadata": {},
   "outputs": [
    {
     "name": "stdout",
     "output_type": "stream",
     "text": [
      "C4:\n",
      " [[ 0.5-0.5j  0.5+0.5j  0. +0.j   0. +0.j ]\n",
      " [-0.5+0.5j  0.5+0.5j  0. +0.j   0. +0.j ]\n",
      " [ 0. +0.j   0. +0.j   0.5-0.5j  0.5+0.5j]\n",
      " [ 0. +0.j   0. +0.j  -0.5+0.5j  0.5+0.5j]]\n",
      "hash: \n",
      "[12  6 10 10  2  6 10 10 10 10 12  6 10 10  2  6]\n"
     ]
    }
   ],
   "source": [
    "print(\"C4:\\n {}\\nhash: \\n{}\".format(cliffords2[4], clifford_to_hash(cliffords2[4], uniqueElements)))"
   ]
  },
  {
   "cell_type": "code",
   "execution_count": 12,
   "metadata": {},
   "outputs": [],
   "source": [
    "def prod(index):\n",
    "    # index = [i, j]\n",
    "    producted = np.matmul(cliffords2[index[0]], cliffords2[index[1]])\n",
    "    productedHash = hashnize(flatten_and_uniquenize(producted), uniqueElements)\n",
    "    for k in range(len(cliffordsHash)):\n",
    "        if np.array_equal(cliffordsHash[k], productedHash):\n",
    "            map[index[0]][index[1]] = k + 1\n",
    "            return\n",
    "        else:\n",
    "            continue"
   ]
  },
  {
   "cell_type": "code",
   "execution_count": 16,
   "metadata": {},
   "outputs": [],
   "source": [
    "L = 10\n",
    "map = np.zeros((L, L), dtype='int8')\n",
    "def calc():\n",
    "    p = Pool(mp.cpu_count())\n",
    "    arg = [[i, j] for i in range(L) for j in range(L)]\n",
    "    p.map(prod, arg)\n",
    "    p.close()\n",
    "    return"
   ]
  },
  {
   "cell_type": "code",
   "execution_count": 17,
   "metadata": {},
   "outputs": [
    {
     "data": {
      "text/plain": [
       "array([[0, 0, 0, 0, 0, 0, 0, 0, 0, 0],\n",
       "       [0, 0, 0, 0, 0, 0, 0, 0, 0, 0],\n",
       "       [0, 0, 0, 0, 0, 0, 0, 0, 0, 0],\n",
       "       [0, 0, 0, 0, 0, 0, 0, 0, 0, 0],\n",
       "       [0, 0, 0, 0, 0, 0, 0, 0, 0, 0],\n",
       "       [0, 0, 0, 0, 0, 0, 0, 0, 0, 0],\n",
       "       [0, 0, 0, 0, 0, 0, 0, 0, 0, 0],\n",
       "       [0, 0, 0, 0, 0, 0, 0, 0, 0, 0],\n",
       "       [0, 0, 0, 0, 0, 0, 0, 0, 0, 0],\n",
       "       [0, 0, 0, 0, 0, 0, 0, 0, 0, 0]], dtype=int8)"
      ]
     },
     "execution_count": 17,
     "metadata": {},
     "output_type": "execute_result"
    }
   ],
   "source": [
    "calc()\n",
    "map"
   ]
  },
  {
   "cell_type": "code",
   "execution_count": 25,
   "metadata": {},
   "outputs": [],
   "source": [
    "np.savetxt(\"cliffords.csv\", map, delimiter=',' ,fmt = '%i')"
   ]
  },
  {
   "cell_type": "code",
   "execution_count": 18,
   "metadata": {},
   "outputs": [
    {
     "name": "stderr",
     "output_type": "stream",
     "text": [
      "100%|██████████| 10/10 [00:00<00:00, 25.22it/s]\n"
     ]
    }
   ],
   "source": [
    "L = 10\n",
    "map = np.zeros((L, L), dtype='int8')\n",
    "for i in tqdm(range(L)):\n",
    "    for j in range(L):\n",
    "        producted = np.matmul(cliffords2[i], cliffords2[j])\n",
    "        productedHash = hashnize(flatten_and_uniquenize(producted), uniqueElements)\n",
    "        for k in range(len(cliffordsHash)):\n",
    "            if np.array_equal(cliffordsHash[k], productedHash):\n",
    "                map[i][j] = k + 1\n",
    "                break\n",
    "            else:\n",
    "                continue"
   ]
  },
  {
   "cell_type": "code",
   "execution_count": 19,
   "metadata": {},
   "outputs": [
    {
     "data": {
      "text/plain": [
       "array([[ 1,  2,  3,  4,  5,  6,  7,  8,  9, 10],\n",
       "       [ 2,  1,  4,  3,  7,  8,  5,  6, 12, 11],\n",
       "       [ 3,  4,  1,  2,  8,  7,  6,  5, 11, 12],\n",
       "       [ 4,  3,  2,  1,  6,  5,  8,  7, 10,  9],\n",
       "       [ 5,  8,  6,  7, 12,  9, 10, 11,  3,  4],\n",
       "       [ 6,  7,  5,  8, 11, 10,  9, 12,  2,  1],\n",
       "       [ 7,  6,  8,  5,  9, 12, 11, 10,  4,  3],\n",
       "       [ 8,  5,  7,  6, 10, 11, 12,  9,  1,  2],\n",
       "       [ 9, 10, 12, 11,  2,  4,  3,  1,  8,  5],\n",
       "       [10,  9, 11, 12,  3,  1,  2,  4,  7,  6]], dtype=int8)"
      ]
     },
     "execution_count": 19,
     "metadata": {},
     "output_type": "execute_result"
    }
   ],
   "source": [
    "map"
   ]
  },
  {
   "cell_type": "code",
   "execution_count": null,
   "metadata": {},
   "outputs": [],
   "source": []
  }
 ],
 "metadata": {
  "kernelspec": {
   "display_name": "Python 3",
   "language": "python",
   "name": "python3"
  },
  "language_info": {
   "codemirror_mode": {
    "name": "ipython",
    "version": 3
   },
   "file_extension": ".py",
   "mimetype": "text/x-python",
   "name": "python",
   "nbconvert_exporter": "python",
   "pygments_lexer": "ipython3",
   "version": "3.6.5"
  }
 },
 "nbformat": 4,
 "nbformat_minor": 2
}
